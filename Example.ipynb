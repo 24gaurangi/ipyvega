{
 "cells": [
  {
   "cell_type": "markdown",
   "metadata": {},
   "source": [
    "# Example notebook for polestar in iPython/jupyter\n",
    "\n",
    "To load a panda data frame into polestar, just pass it to the `polestar` function. "
   ]
  },
  {
   "cell_type": "code",
   "execution_count": 1,
   "metadata": {
    "collapsed": true
   },
   "outputs": [],
   "source": [
    "import pandas as pd\n",
    "# from IPython.display import display"
   ]
  },
  {
   "cell_type": "code",
   "execution_count": 2,
   "metadata": {
    "collapsed": false
   },
   "outputs": [],
   "source": [
    "df = pd.read_json('data/cars.json');"
   ]
  },
  {
   "cell_type": "code",
   "execution_count": 3,
   "metadata": {
    "collapsed": false
   },
   "outputs": [
    {
     "data": {
      "application/javascript": [
       "\n",
       "IPython.OutputArea.prototype._should_scroll = function(lines) {\n",
       "    return false;\n",
       "}\n"
      ],
      "text/plain": [
       "<IPython.core.display.Javascript object>"
      ]
     },
     "metadata": {},
     "output_type": "display_data"
    },
    {
     "name": "stdout",
     "output_type": "stream",
     "text": [
      "autoscrolling is disabled\n"
     ]
    }
   ],
   "source": [
    "%load_ext vega.disable_autoscroll"
   ]
  },
  {
   "cell_type": "code",
   "execution_count": 4,
   "metadata": {
    "collapsed": true
   },
   "outputs": [],
   "source": [
    "%load_ext autoreload\n",
    "%autoreload 2"
   ]
  },
  {
   "cell_type": "code",
   "execution_count": 5,
   "metadata": {
    "collapsed": false,
    "scrolled": true
   },
   "outputs": [
    {
     "data": {
      "text/html": [
       "<iframe srcdoc=\"&lt;!DOCTYPE html&gt;\n",
       "&lt;html&gt;\n",
       "&lt;head&gt;\n",
       "\t&lt;title&gt;Test iframe&lt;/title&gt;\n",
       "\t&lt;style&gt;//@ sourceURL=static/main.css\n",
       "body {\n",
       "\tfont-family: Helvetica, Arial, sans-serif;\n",
       "}\n",
       "\n",
       ".red {\n",
       "\tbackground-color: red;\n",
       "}&lt;/style&gt;\n",
       "\t&lt;script type=&quot;text/javascript&quot;&gt;//@ sourceURL=static/index.js\n",
       "console.log('Hello world');\n",
       "&lt;/script&gt;\n",
       "\t&lt;script type=&quot;text/javascript&quot;&gt;\n",
       "\t\tvar data = '{&quot;rows&quot;: 406, &quot;cols&quot;: 9}';\n",
       "\t&lt;/script&gt;\n",
       "&lt;/head&gt;\n",
       "&lt;body&gt;\n",
       "\t&lt;span class=&quot;red&quot;&gt;Hello world.&lt;/span&gt;\n",
       "&lt;/body&gt;\n",
       "&lt;/html&gt;\" style=\"border: none; width: 100%; height: 450px;\"></iframe>"
      ],
      "text/plain": [
       "<vega.polestar.Polestar object>"
      ]
     },
     "execution_count": 5,
     "metadata": {},
     "output_type": "execute_result"
    }
   ],
   "source": [
    "import vega\n",
    "vega.polestar.create(df)"
   ]
  },
  {
   "cell_type": "code",
   "execution_count": null,
   "metadata": {
    "collapsed": true
   },
   "outputs": [],
   "source": []
  }
 ],
 "metadata": {
  "kernelspec": {
   "display_name": "Python 2",
   "language": "python",
   "name": "python2"
  },
  "language_info": {
   "codemirror_mode": {
    "name": "ipython",
    "version": 2
   },
   "file_extension": ".py",
   "mimetype": "text/x-python",
   "name": "python",
   "nbconvert_exporter": "python",
   "pygments_lexer": "ipython2",
   "version": "2.7.10"
  }
 },
 "nbformat": 4,
 "nbformat_minor": 0
}
